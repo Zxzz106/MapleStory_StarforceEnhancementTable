{
 "cells": [
  {
   "cell_type": "code",
   "execution_count": 2,
   "metadata": {},
   "outputs": [],
   "source": [
    "import os\n",
    "import numpy as np\n",
    "from PIL import Image"
   ]
  },
  {
   "cell_type": "code",
   "execution_count": 14,
   "metadata": {},
   "outputs": [],
   "source": [
    "dir_path='./exec/'\n",
    "def splice(star):\n",
    "\tres=[]\n",
    "\tfor path in os.scandir(dir_path):\n",
    "\t\tif path.is_file() and path.name.endswith('.png') and path.name.startswith(str(star)):\n",
    "\t\t\tres.append(dir_path+path.name)\n",
    "\tres.sort()\n",
    "\timg_array=''\n",
    "\tfor i in range(0,len(res)):\n",
    "\t\tif i==0:\n",
    "\t\t\timg_array=np.array(Image.open(res[i]))\n",
    "\t\t\tcontinue\n",
    "\t\timg_array=np.concatenate((img_array,np.array(Image.open(res[i]))),axis=0)\n",
    "\timg=Image.fromarray(img_array)\n",
    "\timg.save(\"./output/\"+str(star)+\".png\")\n",
    "\n",
    "for i in range(17,23):\n",
    "\tsplice(i)\n",
    "\n"
   ]
  },
  {
   "cell_type": "code",
   "execution_count": null,
   "metadata": {},
   "outputs": [],
   "source": []
  }
 ],
 "metadata": {
  "kernelspec": {
   "display_name": "Python 3",
   "language": "python",
   "name": "python3"
  },
  "language_info": {
   "codemirror_mode": {
    "name": "ipython",
    "version": 3
   },
   "file_extension": ".py",
   "mimetype": "text/x-python",
   "name": "python",
   "nbconvert_exporter": "python",
   "pygments_lexer": "ipython3",
   "version": "3.10.12"
  }
 },
 "nbformat": 4,
 "nbformat_minor": 2
}
