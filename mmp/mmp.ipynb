{
 "cells": [
  {
   "cell_type": "code",
   "execution_count": 13,
   "metadata": {},
   "outputs": [],
   "source": [
    "import pandas as pd\n",
    "import numpy as np\n",
    "import matplotlib.pyplot as plt\n",
    "import matplotlib as mpl\n",
    "from mpl_toolkits.mplot3d import Axes3D\n",
    "from matplotlib.font_manager import FontProperties\n",
    "Meso=pd.read_csv('../meso/meso.csv')\n",
    "Material=pd.read_csv('../material/material.csv')\n"
   ]
  },
  {
   "cell_type": "code",
   "execution_count": 44,
   "metadata": {},
   "outputs": [
    {
     "data": {
      "text/plain": [
       "<Figure size 640x480 with 0 Axes>"
      ]
     },
     "metadata": {},
     "output_type": "display_data"
    }
   ],
   "source": [
    "def match(index,Material):\n",
    "\tstar=index[0:2]\n",
    "\tsuccesson15=index[3]\n",
    "\tsafeguard=index[4]\n",
    "\tcost=index[5:7]\n",
    "\tlevel=index[7:10]\n",
    "\ttype=0\n",
    "\tif safeguard:\n",
    "\t\ttype=2\n",
    "\telif successon15:\n",
    "\t\ttype=1\n",
    "\telse:\n",
    "\t\ttype=0\n",
    "\treturn (int(cost),Material.loc[:,str(star)+str(type)])\n",
    "\n",
    "def height(X,Y,cost,z1,z2):\n",
    "\tZ=[]\n",
    "\tfor i in range(0,len(X)):\n",
    "\t\tz=[]\n",
    "\t\tfor j in range(0,len(X[0])):\n",
    "\t\t\tz.append(z1[int(X[i][j]/(cost/40.0))]*z2[int(Y[i][j])])\n",
    "\t\tZ.append(z)\n",
    "\t# print(Z)\n",
    "\treturn Z\n",
    "def MakeTitle(index):\n",
    "\tstar=str(index[0:2])\n",
    "\tthirtyoff=int(index[2])\n",
    "\tsuccesson15=int(index[3])\n",
    "\tsafeguard=int(index[4])\n",
    "\tlevel=str(index[7:10])\n",
    "\ttype=str()\n",
    "\tif (not thirtyoff) and (not successon15):\n",
    "\t\ttype=u\"无活动\"\n",
    "\telif (thirtyoff) and (successon15):\n",
    "\t\ttype=u\"超级必成\"\n",
    "\telif thirtyoff:\n",
    "\t\ttype=u\"七折\"\n",
    "\telse:\n",
    "\t\ttype=u\"必成\"\n",
    "\t\n",
    "\tif safeguard:\n",
    "\t\ttype=type+u\"，保护\"\n",
    "\telse:\n",
    "\t\ttype=type+u\"，无保护\"\n",
    "\t\n",
    "\treturn level+u\"级，\"+star+u\"星，\"+type\n",
    "\t\n",
    "def Draw(index,cost,z1,z2):\n",
    "\tx=[i*cost/40.0 for i in range(0,41)]\n",
    "\ty=list(range(0,11))\n",
    "\tX,Y=np.meshgrid(x,y)\n",
    "\tZ=np.array(height(X,Y,cost,z1,z2))\n",
    "\tN=np.arange(0,1,0.01)\n",
    "\tfont=FontProperties(fname=r\"simhei.ttf\",size=14)\n",
    "\tplt.xlabel(\"meso\",fontproperties=font)\n",
    "\tplt.ylabel(u\"备件\",fontproperties=font)\n",
    "\tplt.title(MakeTitle(index),fontproperties=font)\n",
    "\tC=plt.contourf(X,Y,Z,N,cmap=plt.get_cmap('RdYlGn'))\n",
    "\tcbar=plt.colorbar(C)\n",
    "\n",
    "\tplt.savefig(\"./exec/\"+index+\".png\")\n",
    "\tplt.clf()\n",
    "\t# plt.show()\n",
    "\t# fig=plt.figure()\n",
    "\t# ax1=plt.axes(projection='3d')\n",
    "\t# ax1.scatter3D(X,Y,Z)\n",
    "\t# print(Z)\n",
    "\n",
    "for (index,meso) in Meso.items():\n",
    "\t(cost,material)=match(index,Material)\n",
    "\tDraw(index,cost,meso.tolist(),material.tolist())\n"
   ]
  },
  {
   "cell_type": "code",
   "execution_count": null,
   "metadata": {},
   "outputs": [],
   "source": []
  }
 ],
 "metadata": {
  "kernelspec": {
   "display_name": "Python 3",
   "language": "python",
   "name": "python3"
  },
  "language_info": {
   "codemirror_mode": {
    "name": "ipython",
    "version": 3
   },
   "file_extension": ".py",
   "mimetype": "text/x-python",
   "name": "python",
   "nbconvert_exporter": "python",
   "pygments_lexer": "ipython3",
   "version": "3.10.12"
  }
 },
 "nbformat": 4,
 "nbformat_minor": 2
}
